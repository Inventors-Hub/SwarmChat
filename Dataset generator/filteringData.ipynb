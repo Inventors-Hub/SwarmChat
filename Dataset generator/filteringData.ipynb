{
 "cells": [
  {
   "cell_type": "code",
   "execution_count": 1,
   "metadata": {},
   "outputs": [],
   "source": [
    "import pandas as pd\n",
    "import json\n",
    "import xml.etree.ElementTree as ET\n",
    "import numpy as np\n",
    "import os \n",
    "import re\n",
    "import random\n"
   ]
  },
  {
   "cell_type": "code",
   "execution_count": 2,
   "metadata": {},
   "outputs": [],
   "source": [
    "# Define folder and output paths\n",
    "folder = r\"C:\\Users\\moham\\Desktop\\SwarmChat_github\\SwarmChat\\Dataset generator\\raw_data\"\n",
    "output_path = r\"C:\\Users\\moham\\Desktop\\SwarmChat_github\\SwarmChat\\Dataset generator\\combined_datasets.jsonl\""
   ]
  },
  {
   "cell_type": "code",
   "execution_count": 3,
   "metadata": {},
   "outputs": [],
   "source": [
    "# Read files from folder\n",
    "dataset = []\n",
    "input_paths = os.listdir(folder)\n",
    "for f in input_paths:\n",
    "    file_path = os.path.join(folder, f)\n",
    "    with open(file_path, 'r', encoding='utf-8') as file:\n",
    "        data = file.read()\n",
    "        dataset.append(data)"
   ]
  },
  {
   "cell_type": "code",
   "execution_count": 4,
   "metadata": {},
   "outputs": [],
   "source": [
    "# Define the parsing function first\n",
    "def parse_generated_text_with_proper_bt(sections):\n",
    "    instructions = []\n",
    "    # 'sections' is a list of examples already split by \"###\"\n",
    "    for section in sections:\n",
    "        # Only process sections that contain all required markers\n",
    "        if all(marker in section for marker in ['SYSTEM:', 'INSTRUCTIONS:', 'USER COMMAND:', 'OUTPUT:']):\n",
    "            # Find indices of each marker\n",
    "            system_index = section.find('SYSTEM:')\n",
    "            instructions_index = section.find('INSTRUCTIONS:')\n",
    "            user_command_index = section.find('USER COMMAND:')\n",
    "            output_index = section.find('OUTPUT:')\n",
    "            \n",
    "            # Extract text for each block by slicing using the indices\n",
    "            system_text = section[system_index + len('SYSTEM:'):instructions_index].strip()\n",
    "            instructions_text = section[instructions_index + len('INSTRUCTIONS:'):user_command_index].strip()\n",
    "            user_command_text = section[user_command_index + len('USER COMMAND:'):output_index].strip()\n",
    "            output_text = section[output_index + len('OUTPUT:'):].strip()\n",
    "            \n",
    "            # Check if the output is a \"sorry\" message\n",
    "            if \"Sorry, I can't do the task\" in output_text:\n",
    "                instructions.append({\n",
    "                    'SYSTEM': system_text,\n",
    "                    'INSTRUCTIONS': instructions_text,\n",
    "                    'USER COMMAND': user_command_text,\n",
    "                    'OUTPUT': output_text\n",
    "                })\n",
    "            # If the output is a behavior tree XML (contains both <root and </root>)\n",
    "            elif '<root' in output_text and '</root>' in output_text:\n",
    "                # Optionally, format the XML to be more readable\n",
    "                formatted_xml_output = output_text.replace('><', '>\\n<')\n",
    "                instructions.append({\n",
    "                    'SYSTEM': system_text,\n",
    "                    'INSTRUCTIONS': instructions_text,\n",
    "                    'USER COMMAND': user_command_text,\n",
    "                    'OUTPUT': formatted_xml_output\n",
    "                })\n",
    "            else:\n",
    "                pass\n",
    "\n",
    "    return instructions\n",
    "\n",
    "\n",
    "def extract_behavior_tree(response: str) -> str:\n",
    "    \"\"\"\n",
    "    Extracts an XML behavior tree from the given response text.\n",
    "    Looks for a block of XML enclosed in <root ... </root> tags.\n",
    "    \"\"\"\n",
    "    pattern = re.compile(r'(<root.*?</root>)', re.DOTALL)\n",
    "    match = pattern.search(response)\n",
    "    if match:\n",
    "        return match.group(1).strip()\n",
    "    else:\n",
    "        return response.strip()\n",
    "    \n",
    "    "
   ]
  },
  {
   "cell_type": "code",
   "execution_count": 5,
   "metadata": {},
   "outputs": [
    {
     "name": "stdout",
     "output_type": "stream",
     "text": [
      "Processing complete. Data saved to JSONL.\n"
     ]
    }
   ],
   "source": [
    "# Process each file and write to JSONL file\n",
    "# Open the output file in write mode ('w') if you want to create a fresh file each run\n",
    "with open(output_path, 'w', encoding='utf-8') as jsonl_file:\n",
    "    for file_content in dataset:\n",
    "        # Split each file content by \"###\"\n",
    "        pieces = [piece.strip() for piece in file_content.split(\"###\") if piece.strip()]\n",
    "        # Parse the sections\n",
    "        instructions = parse_generated_text_with_proper_bt(pieces)\n",
    "        \n",
    "        # (Optional) Create a DataFrame if you need to inspect it\n",
    "        df_instructions = pd.DataFrame(instructions)\n",
    "        \n",
    "        # Write each parsed instruction as a JSON line\n",
    "        for instruction in instructions:\n",
    "            jsonl_file.write(json.dumps(instruction) + \"\\n\")\n",
    "\n",
    "print(\"Processing complete. Data saved to JSONL.\")"
   ]
  },
  {
   "cell_type": "markdown",
   "metadata": {},
   "source": [
    "### Train, validation, and test split"
   ]
  },
  {
   "cell_type": "code",
   "execution_count": 11,
   "metadata": {},
   "outputs": [
    {
     "name": "stdout",
     "output_type": "stream",
     "text": [
      "Data split complete! Training, validation, and test files have been generated.\n"
     ]
    }
   ],
   "source": [
    "\n",
    "# Read the data from the JSONL file\n",
    "with open(output_path, \"r\", encoding=\"utf-8\") as f:\n",
    "    data = [json.loads(line) for line in f if line.strip()]\n",
    "\n",
    "# Shuffle the data to ensure random splitting\n",
    "random.shuffle(data)\n",
    "\n",
    "# Example splits: 70% training, 20% validation, 10% test\n",
    "n = len(data)\n",
    "train_end = int(0.7 * n)\n",
    "val_end = int(0.9 * n)\n",
    "\n",
    "train_data = data[:train_end]\n",
    "val_data = data[train_end:val_end]\n",
    "test_data = data[val_end:]\n",
    "\n",
    "# Define paths for the training, validation, and test files\n",
    "train_path = r\"C:\\Users\\moham\\Desktop\\SwarmChat_github\\SwarmChat\\Dataset generator\\train_data.jsonl\"\n",
    "val_path = r\"C:\\Users\\moham\\Desktop\\SwarmChat_github\\SwarmChat\\Dataset generator\\validation_data.jsonl\"\n",
    "test_path = r\"C:\\Users\\moham\\Desktop\\SwarmChat_github\\SwarmChat\\Dataset generator\\test_data.jsonl\"\n",
    "\n",
    "# Write the training set to a new JSONL file\n",
    "with open(train_path, \"w\", encoding=\"utf-8\") as f:\n",
    "    for entry in train_data:\n",
    "        f.write(json.dumps(entry) + \"\\n\")\n",
    "\n",
    "# Write the validation set to a new JSONL file\n",
    "with open(val_path, \"w\", encoding=\"utf-8\") as f:\n",
    "    for entry in val_data:\n",
    "        f.write(json.dumps(entry) + \"\\n\")\n",
    "\n",
    "# Write the test set to a new JSONL file\n",
    "with open(test_path, \"w\", encoding=\"utf-8\") as f:\n",
    "    for entry in test_data:\n",
    "        f.write(json.dumps(entry) + \"\\n\")\n",
    "\n",
    "print(\"Data split complete! Training, validation, and test files have been generated.\")\n"
   ]
  }
 ],
 "metadata": {
  "kernelspec": {
   "display_name": "base",
   "language": "python",
   "name": "python3"
  },
  "language_info": {
   "codemirror_mode": {
    "name": "ipython",
    "version": 3
   },
   "file_extension": ".py",
   "mimetype": "text/x-python",
   "name": "python",
   "nbconvert_exporter": "python",
   "pygments_lexer": "ipython3",
   "version": "3.12.4"
  }
 },
 "nbformat": 4,
 "nbformat_minor": 2
}
